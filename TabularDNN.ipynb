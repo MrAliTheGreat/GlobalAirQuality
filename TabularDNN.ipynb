{
 "cells": [
  {
   "cell_type": "markdown",
   "id": "86983158",
   "metadata": {},
   "source": [
    "# TabularDNN"
   ]
  },
  {
   "cell_type": "markdown",
   "id": "8949e05a",
   "metadata": {},
   "source": [
    "Use `/usr/bin/python3.11 -m venv venvName` to make venv. Use `source venvName/bin/activate` to enter venv. Python will be 3.11 when used either `python` or `python3`. To get out of venv use `deactivate`. `rm -r venvName` to delete venv."
   ]
  },
  {
   "cell_type": "markdown",
   "id": "42fced71",
   "metadata": {},
   "source": [
    "Use `pip install tensorflow[and-cuda]` to install and check with `python3 -c \"import tensorflow as tf; print(tf.config.list_physical_devices('GPU'))\"` to see if GPU is set up. If GPU devices are shown then everything is OK."
   ]
  },
  {
   "cell_type": "markdown",
   "id": "0193dc55",
   "metadata": {},
   "source": [
    "Use `pip install jupyter` to have jupyter-notebook in venv. Check with `which jupyter` to see if correct jupyter is used. Use `python -m ipykernel install --user --name=venvName` to add venv to jupyter kernels. When creating new notebook instead of using python3 use venvName. To remove venv kernel from jupyter use `jupyter kernelspec remove venvName`"
   ]
  },
  {
   "cell_type": "code",
   "execution_count": 1,
   "id": "53cd411d",
   "metadata": {},
   "outputs": [
    {
     "name": "stdout",
     "output_type": "stream",
     "text": [
      "Python 3.11.7\r\n"
     ]
    }
   ],
   "source": [
    "! python --version"
   ]
  },
  {
   "cell_type": "code",
   "execution_count": 2,
   "id": "c65f900b",
   "metadata": {},
   "outputs": [
    {
     "name": "stderr",
     "output_type": "stream",
     "text": [
      "2024-10-18 18:49:09.132161: I tensorflow/core/util/port.cc:153] oneDNN custom operations are on. You may see slightly different numerical results due to floating-point round-off errors from different computation orders. To turn them off, set the environment variable `TF_ENABLE_ONEDNN_OPTS=0`.\n",
      "2024-10-18 18:49:09.147872: E external/local_xla/xla/stream_executor/cuda/cuda_fft.cc:485] Unable to register cuFFT factory: Attempting to register factory for plugin cuFFT when one has already been registered\n",
      "2024-10-18 18:49:09.158685: E external/local_xla/xla/stream_executor/cuda/cuda_dnn.cc:8454] Unable to register cuDNN factory: Attempting to register factory for plugin cuDNN when one has already been registered\n",
      "2024-10-18 18:49:09.161882: E external/local_xla/xla/stream_executor/cuda/cuda_blas.cc:1452] Unable to register cuBLAS factory: Attempting to register factory for plugin cuBLAS when one has already been registered\n",
      "2024-10-18 18:49:09.170336: I tensorflow/core/platform/cpu_feature_guard.cc:210] This TensorFlow binary is optimized to use available CPU instructions in performance-critical operations.\n",
      "To enable the following instructions: AVX2 AVX_VNNI FMA, in other operations, rebuild TensorFlow with the appropriate compiler flags.\n",
      "2024-10-18 18:49:11.861505: W tensorflow/compiler/tf2tensorrt/utils/py_utils.cc:38] TF-TRT Warning: Could not find TensorRT\n"
     ]
    }
   ],
   "source": [
    "import tensorflow as tf\n",
    "import keras"
   ]
  },
  {
   "cell_type": "code",
   "execution_count": 3,
   "id": "72a8ecef",
   "metadata": {},
   "outputs": [
    {
     "name": "stdout",
     "output_type": "stream",
     "text": [
      "Keras Version: 3.6.0\n",
      "TensorFlow Version: 2.17.0\n"
     ]
    }
   ],
   "source": [
    "print(f\"Keras Version: {keras.__version__}\")\n",
    "print(f\"TensorFlow Version: {tf.__version__}\")"
   ]
  },
  {
   "cell_type": "code",
   "execution_count": 4,
   "id": "4c3a214d",
   "metadata": {},
   "outputs": [],
   "source": [
    "import pandas as pd"
   ]
  },
  {
   "cell_type": "code",
   "execution_count": 5,
   "id": "a6f75b95",
   "metadata": {},
   "outputs": [
    {
     "data": {
      "text/html": [
       "<div>\n",
       "<style scoped>\n",
       "    .dataframe tbody tr th:only-of-type {\n",
       "        vertical-align: middle;\n",
       "    }\n",
       "\n",
       "    .dataframe tbody tr th {\n",
       "        vertical-align: top;\n",
       "    }\n",
       "\n",
       "    .dataframe thead th {\n",
       "        text-align: right;\n",
       "    }\n",
       "</style>\n",
       "<table border=\"1\" class=\"dataframe\">\n",
       "  <thead>\n",
       "    <tr style=\"text-align: right;\">\n",
       "      <th></th>\n",
       "      <th>Date</th>\n",
       "      <th>Time</th>\n",
       "      <th>Temperature</th>\n",
       "      <th>Real Feel</th>\n",
       "      <th>Weather Status</th>\n",
       "      <th>Wind Gusts</th>\n",
       "      <th>Humidity</th>\n",
       "      <th>Indoor Humidity</th>\n",
       "      <th>Humidity Status</th>\n",
       "      <th>Dew Point</th>\n",
       "      <th>...</th>\n",
       "      <th>AQI</th>\n",
       "      <th>AQI-PM2.5</th>\n",
       "      <th>AQI-PM10</th>\n",
       "      <th>AQI-NO2</th>\n",
       "      <th>AQI-O3</th>\n",
       "      <th>Amount-PM2.5</th>\n",
       "      <th>Amount-PM10</th>\n",
       "      <th>Amount-NO2</th>\n",
       "      <th>Amount-O3</th>\n",
       "      <th>Filename</th>\n",
       "    </tr>\n",
       "  </thead>\n",
       "  <tbody>\n",
       "    <tr>\n",
       "      <th>0</th>\n",
       "      <td>THURSDAY, 17 OCTOBER</td>\n",
       "      <td>17:30</td>\n",
       "      <td>11</td>\n",
       "      <td>12</td>\n",
       "      <td>Mostly cloudy</td>\n",
       "      <td>6</td>\n",
       "      <td>0.80</td>\n",
       "      <td>0.46</td>\n",
       "      <td>Ideal Humidity</td>\n",
       "      <td>8</td>\n",
       "      <td>...</td>\n",
       "      <td>37</td>\n",
       "      <td>13</td>\n",
       "      <td>14</td>\n",
       "      <td>37</td>\n",
       "      <td>15</td>\n",
       "      <td>3</td>\n",
       "      <td>10</td>\n",
       "      <td>18</td>\n",
       "      <td>45</td>\n",
       "      <td>Seattle/95.png</td>\n",
       "    </tr>\n",
       "    <tr>\n",
       "      <th>1</th>\n",
       "      <td>THURSDAY, 10 OCTOBER</td>\n",
       "      <td>09:00</td>\n",
       "      <td>11</td>\n",
       "      <td>13</td>\n",
       "      <td>Mostly cloudy</td>\n",
       "      <td>8</td>\n",
       "      <td>0.92</td>\n",
       "      <td>0.50</td>\n",
       "      <td>Ideal Humidity</td>\n",
       "      <td>9</td>\n",
       "      <td>...</td>\n",
       "      <td>39</td>\n",
       "      <td>12</td>\n",
       "      <td>14</td>\n",
       "      <td>39</td>\n",
       "      <td>7</td>\n",
       "      <td>3</td>\n",
       "      <td>10</td>\n",
       "      <td>19</td>\n",
       "      <td>19</td>\n",
       "      <td>Seattle/44.png</td>\n",
       "    </tr>\n",
       "    <tr>\n",
       "      <th>2</th>\n",
       "      <td>TUESDAY, 8 OCTOBER</td>\n",
       "      <td>13:06</td>\n",
       "      <td>16</td>\n",
       "      <td>16</td>\n",
       "      <td>Cloudy</td>\n",
       "      <td>11</td>\n",
       "      <td>0.93</td>\n",
       "      <td>0.72</td>\n",
       "      <td>Slightly Humid</td>\n",
       "      <td>15</td>\n",
       "      <td>...</td>\n",
       "      <td>45</td>\n",
       "      <td>17</td>\n",
       "      <td>18</td>\n",
       "      <td>45</td>\n",
       "      <td>6</td>\n",
       "      <td>4</td>\n",
       "      <td>13</td>\n",
       "      <td>22</td>\n",
       "      <td>18</td>\n",
       "      <td>Seattle/6.png</td>\n",
       "    </tr>\n",
       "    <tr>\n",
       "      <th>3</th>\n",
       "      <td>THURSDAY, 17 OCTOBER</td>\n",
       "      <td>18:28</td>\n",
       "      <td>10</td>\n",
       "      <td>12</td>\n",
       "      <td>Partly cloudy</td>\n",
       "      <td>5</td>\n",
       "      <td>0.82</td>\n",
       "      <td>0.44</td>\n",
       "      <td>Ideal Humidity</td>\n",
       "      <td>7</td>\n",
       "      <td>...</td>\n",
       "      <td>50</td>\n",
       "      <td>21</td>\n",
       "      <td>22</td>\n",
       "      <td>50</td>\n",
       "      <td>11</td>\n",
       "      <td>5</td>\n",
       "      <td>17</td>\n",
       "      <td>26</td>\n",
       "      <td>33</td>\n",
       "      <td>Seattle/96.png</td>\n",
       "    </tr>\n",
       "    <tr>\n",
       "      <th>4</th>\n",
       "      <td>WEDNESDAY, 9 OCTOBER</td>\n",
       "      <td>16:53</td>\n",
       "      <td>16</td>\n",
       "      <td>18</td>\n",
       "      <td>Partly sunny</td>\n",
       "      <td>8</td>\n",
       "      <td>0.68</td>\n",
       "      <td>0.53</td>\n",
       "      <td>Ideal Humidity</td>\n",
       "      <td>10</td>\n",
       "      <td>...</td>\n",
       "      <td>31</td>\n",
       "      <td>20</td>\n",
       "      <td>31</td>\n",
       "      <td>30</td>\n",
       "      <td>15</td>\n",
       "      <td>4</td>\n",
       "      <td>26</td>\n",
       "      <td>15</td>\n",
       "      <td>45</td>\n",
       "      <td>Seattle/25.png</td>\n",
       "    </tr>\n",
       "  </tbody>\n",
       "</table>\n",
       "<p>5 rows × 25 columns</p>\n",
       "</div>"
      ],
      "text/plain": [
       "                   Date   Time  Temperature  Real Feel Weather Status  \\\n",
       "0  THURSDAY, 17 OCTOBER  17:30           11         12  Mostly cloudy   \n",
       "1  THURSDAY, 10 OCTOBER  09:00           11         13  Mostly cloudy   \n",
       "2    TUESDAY, 8 OCTOBER  13:06           16         16         Cloudy   \n",
       "3  THURSDAY, 17 OCTOBER  18:28           10         12  Partly cloudy   \n",
       "4  WEDNESDAY, 9 OCTOBER  16:53           16         18   Partly sunny   \n",
       "\n",
       "   Wind Gusts  Humidity  Indoor Humidity Humidity Status  Dew Point  ...  AQI  \\\n",
       "0           6      0.80             0.46  Ideal Humidity          8  ...   37   \n",
       "1           8      0.92             0.50  Ideal Humidity          9  ...   39   \n",
       "2          11      0.93             0.72  Slightly Humid         15  ...   45   \n",
       "3           5      0.82             0.44  Ideal Humidity          7  ...   50   \n",
       "4           8      0.68             0.53  Ideal Humidity         10  ...   31   \n",
       "\n",
       "  AQI-PM2.5  AQI-PM10  AQI-NO2  AQI-O3  Amount-PM2.5  Amount-PM10  Amount-NO2  \\\n",
       "0        13        14       37      15             3           10          18   \n",
       "1        12        14       39       7             3           10          19   \n",
       "2        17        18       45       6             4           13          22   \n",
       "3        21        22       50      11             5           17          26   \n",
       "4        20        31       30      15             4           26          15   \n",
       "\n",
       "   Amount-O3        Filename  \n",
       "0         45  Seattle/95.png  \n",
       "1         19  Seattle/44.png  \n",
       "2         18   Seattle/6.png  \n",
       "3         33  Seattle/96.png  \n",
       "4         45  Seattle/25.png  \n",
       "\n",
       "[5 rows x 25 columns]"
      ]
     },
     "execution_count": 5,
     "metadata": {},
     "output_type": "execute_result"
    }
   ],
   "source": [
    "df = pd.read_csv(\"dataset/AQI.csv\")\n",
    "df.head()"
   ]
  },
  {
   "cell_type": "code",
   "execution_count": null,
   "id": "06cff15b",
   "metadata": {},
   "outputs": [],
   "source": []
  }
 ],
 "metadata": {
  "kernelspec": {
   "display_name": "kerasify",
   "language": "python",
   "name": "kerasify"
  },
  "language_info": {
   "codemirror_mode": {
    "name": "ipython",
    "version": 3
   },
   "file_extension": ".py",
   "mimetype": "text/x-python",
   "name": "python",
   "nbconvert_exporter": "python",
   "pygments_lexer": "ipython3",
   "version": "3.11.7"
  }
 },
 "nbformat": 4,
 "nbformat_minor": 5
}
